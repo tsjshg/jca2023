{
 "cells": [
  {
   "cell_type": "markdown",
   "id": "432380cf-87e7-4d6b-96b9-5d9caabbdb67",
   "metadata": {},
   "source": [
    "# JupyterLabの基本\n",
    "\n",
    "- 起動は「jupyter lab」または「jupyter-lab」コマンド\n",
    "- 起動した場所が「いまいる場所」\n",
    "- 新しいノートブックを作る（カーネルの新規作成）"
   ]
  },
  {
   "cell_type": "code",
   "execution_count": 3,
   "id": "52316506-2995-486e-ba56-83b5d4d0f639",
   "metadata": {},
   "outputs": [
    {
     "name": "stdout",
     "output_type": "stream",
     "text": [
      "/Users/tsuji/Dropbox/projects/lectures/JCA_2023\n"
     ]
    }
   ],
   "source": [
    "# Pythonで1行のコマンドは#からはじめる\n",
    "# いまいる場所はpwdコマンド\n",
    "# 先頭に！を付けると、Jupyter環境からシェルへコマンドを渡すことができる\n",
    "!pwd"
   ]
  },
  {
   "cell_type": "markdown",
   "id": "df875a3c-39ec-404d-8a7e-d5958ed29999",
   "metadata": {},
   "source": [
    "## セルの基本\n",
    "\n",
    "- 種類がいくつかある（code、Markdown）\n",
    "- モードが2ある（編集、コマンドの受け付け）\n",
    "- コマンドの実行は、Ctrl+Enter。Shift+Enterとすると新しいセルが追加"
   ]
  },
  {
   "cell_type": "code",
   "execution_count": 4,
   "id": "cb3a28b9-0d7d-4359-be76-3f3b8972dedb",
   "metadata": {},
   "outputs": [
    {
     "data": {
      "text/plain": [
       "4"
      ]
     },
     "execution_count": 4,
     "metadata": {},
     "output_type": "execute_result"
    }
   ],
   "source": [
    "# Jupyter環境はセルの最後の行を評価してくれる\n",
    "# つまりprintと書かなくても画面に出力される\n",
    "2 + 2"
   ]
  },
  {
   "cell_type": "code",
   "execution_count": 2,
   "id": "4a56fb11-a0eb-4eac-8259-1b05fd1a0408",
   "metadata": {},
   "outputs": [],
   "source": [
    "# 変数とメモリ\n",
    "# NumPyのインポート\n",
    "# Python起動時には必要最低限の機能しかメモリに読み込まれない\n",
    "# 読み込まれない標準ライブラリや外部ライブラリはimport文でメモリに読み込んでから使う\n",
    "# 必要に応じて、pip　install numpy\n",
    "import numpy as np\n",
    "\n",
    "a = np.array([1, 0, 2])\n",
    "b = np.array([-2, 3, 1])"
   ]
  },
  {
   "cell_type": "code",
   "execution_count": 3,
   "id": "741c34f7-613f-4277-b82e-4480e05fdbb1",
   "metadata": {},
   "outputs": [
    {
     "data": {
      "text/plain": [
       "0"
      ]
     },
     "execution_count": 3,
     "metadata": {},
     "output_type": "execute_result"
    }
   ],
   "source": [
    "# aとbの内積\n",
    "a @ b"
   ]
  },
  {
   "cell_type": "markdown",
   "id": "27324309-3e28-48bb-b29a-1b439d07791e",
   "metadata": {},
   "source": [
    "ここでカーネルをリスタートしてみるとどうなるか実演"
   ]
  },
  {
   "cell_type": "markdown",
   "id": "56c4a1fc-d096-4970-bb43-84176c830cbb",
   "metadata": {},
   "source": [
    "- Notebookの名前と保存\n",
    "- 終了はFileメニューからShut Downを選ぶか、起動したシェルでCtrl+Cを入力"
   ]
  }
 ],
 "metadata": {
  "kernelspec": {
   "display_name": "Python 3 (ipykernel)",
   "language": "python",
   "name": "python3"
  },
  "language_info": {
   "codemirror_mode": {
    "name": "ipython",
    "version": 3
   },
   "file_extension": ".py",
   "mimetype": "text/x-python",
   "name": "python",
   "nbconvert_exporter": "python",
   "pygments_lexer": "ipython3",
   "version": "3.9.10"
  }
 },
 "nbformat": 4,
 "nbformat_minor": 5
}
